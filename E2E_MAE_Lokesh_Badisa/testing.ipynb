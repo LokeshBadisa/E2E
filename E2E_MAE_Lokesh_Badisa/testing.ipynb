{
 "cells": [
  {
   "cell_type": "code",
   "execution_count": 4,
   "metadata": {},
   "outputs": [],
   "source": [
    "import h5py\n",
    "import numpy as np  \n",
    "import torch\n",
    "from tqdm import tqdm   "
   ]
  },
  {
   "cell_type": "code",
   "execution_count": 11,
   "metadata": {},
   "outputs": [],
   "source": [
    "# data = h5py.File('/global/cfs/cdirs/m4392/ACAT_Backup/Data/QG/Quark_Gluon.h5', 'r')  \n",
    "data = h5py.File('/global/cfs/cdirs/m4392/ACAT_Backup/Data/Top/Boosted_Top.h5', 'r')  "
   ]
  },
  {
   "cell_type": "code",
   "execution_count": 12,
   "metadata": {},
   "outputs": [
    {
     "data": {
      "text/plain": [
       "<KeysViewHDF5 ['test_jet', 'test_meta', 'train_jet', 'train_meta', 'validation_jet', 'validation_meta']>"
      ]
     },
     "execution_count": 12,
     "metadata": {},
     "output_type": "execute_result"
    }
   ],
   "source": [
    "data.keys()"
   ]
  },
  {
   "cell_type": "code",
   "execution_count": 6,
   "metadata": {},
   "outputs": [
    {
     "data": {
      "text/plain": [
       "(3164800, 125, 125, 8)"
      ]
     },
     "execution_count": 6,
     "metadata": {},
     "output_type": "execute_result"
    }
   ],
   "source": [
    "data['train_jet'].shape"
   ]
  },
  {
   "cell_type": "code",
   "execution_count": 21,
   "metadata": {},
   "outputs": [],
   "source": [
    "h5_path = '/global/cfs/cdirs/m4392/ACAT_Backup/Data/QG/Quark_Gluon.h5'\n",
    "# h5_path = '/global/cfs/cdirs/m4392/ACAT_Backup/Data/Top/Boosted_Top.h5'\n",
    "# h5_file = h5py.File(h5_path, 'r', libver='latest', swmr=True)\n",
    "# data = h5_file['train_jet']\n",
    "# print(data.chunks)"
   ]
  },
  {
   "cell_type": "code",
   "execution_count": 22,
   "metadata": {},
   "outputs": [],
   "source": [
    "from utils.dataset import *"
   ]
  },
  {
   "cell_type": "code",
   "execution_count": 23,
   "metadata": {},
   "outputs": [],
   "source": [
    "class H5Dataset(Dataset):\n",
    "    '''\n",
    "    Loads a dataset from h5 file\n",
    "    args:\n",
    "        file_path: str, path to the h5 file\n",
    "        partition: str, one of 'train', 'validation', or 'test'\n",
    "    '''\n",
    "    def __init__(self, \n",
    "                 file_path: str, \n",
    "                 partition: str\n",
    "    ) -> None:\n",
    "        assert partition in ['train', 'validation', 'test'],\\\n",
    "              \"Partition must be one of 'train', 'validation', or 'test'\"\n",
    "        self.file_path = file_path\n",
    "        self.data = h5py.File(file_path, 'r')[f'{partition}_jet']  \n",
    "        self.labels = h5py.File(file_path, 'r')[f'{partition}_meta']\n",
    "        if Path(file_path).parent.stem == 'QG':\n",
    "            self.neglect = np.array(QUARK_GLUON_NEGLECT)\n",
    "        else:\n",
    "            self.neglect = np.array(BOOSTED_TOP_NEGLECT)\n",
    "\n",
    "    def __len__(self):\n",
    "        return self.labels.shape[0] - len(self.neglect)\n",
    "\n",
    "    def __getitem__(self, idx):\n",
    "        idx = idx + bisect_left(self.neglect, idx)\n",
    "        return self.data[idx], self.labels[idx]"
   ]
  },
  {
   "cell_type": "code",
   "execution_count": 24,
   "metadata": {},
   "outputs": [],
   "source": [
    "trainset = H5Dataset(h5_path, 'train')"
   ]
  },
  {
   "cell_type": "code",
   "execution_count": 25,
   "metadata": {},
   "outputs": [],
   "source": [
    "train_loader = DataLoader(\n",
    "        trainset,\n",
    "        batch_size=32,\n",
    "        pin_memory=True,\n",
    "        shuffle=False,\n",
    "        # collate_fn=collate,\n",
    "    )"
   ]
  },
  {
   "cell_type": "code",
   "execution_count": 26,
   "metadata": {},
   "outputs": [
    {
     "name": "stdout",
     "output_type": "stream",
     "text": [
      "torch.Size([32, 125, 125, 3])\n",
      "torch.Size([32, 3])\n"
     ]
    }
   ],
   "source": [
    "for data, labels in train_loader:\n",
    "    print(data.shape)\n",
    "    print(labels.shape) \n",
    "    break"
   ]
  },
  {
   "cell_type": "code",
   "execution_count": 57,
   "metadata": {},
   "outputs": [],
   "source": [
    "from einops import rearrange"
   ]
  },
  {
   "cell_type": "code",
   "execution_count": 58,
   "metadata": {},
   "outputs": [],
   "source": []
  },
  {
   "cell_type": "code",
   "execution_count": 27,
   "metadata": {},
   "outputs": [
    {
     "name": "stdout",
     "output_type": "stream",
     "text": [
      "16.9 ms ± 3.7 ms per loop (mean ± std. dev. of 7 runs, 1 loop each)\n"
     ]
    }
   ],
   "source": [
    "%%timeit\n",
    "data = torch.randn((32,125,125,3))\n",
    "data = rearrange(data, 'b h w c -> b c h w')"
   ]
  },
  {
   "cell_type": "code",
   "execution_count": 28,
   "metadata": {},
   "outputs": [
    {
     "name": "stdout",
     "output_type": "stream",
     "text": [
      "19.9 μs ± 117 ns per loop (mean ± std. dev. of 7 runs, 10,000 loops each)\n"
     ]
    }
   ],
   "source": [
    "%%timeit\n",
    "data = torch.randn((32,125,125,3), device='cuda:0')\n",
    "data = rearrange(data, 'b h w c -> b c h w')"
   ]
  },
  {
   "cell_type": "code",
   "execution_count": 29,
   "metadata": {},
   "outputs": [
    {
     "name": "stdout",
     "output_type": "stream",
     "text": [
      "32.9 ms ± 1.61 ms per loop (mean ± std. dev. of 7 runs, 10 loops each)\n"
     ]
    }
   ],
   "source": [
    "%%timeit\n",
    "data = torch.randn((32,125,125,3))\n",
    "min = torch.min(data.view(data.size(0),-1), dim=1)[0]\n",
    "max = torch.max(data.view(data.size(0),-1), dim=1)[0]\n",
    "data = (data - min.view(-1, 1, 1, 1)) / (max.view(-1, 1, 1, 1) - min.view(-1, 1, 1, 1)) "
   ]
  },
  {
   "cell_type": "code",
   "execution_count": 30,
   "metadata": {},
   "outputs": [
    {
     "name": "stdout",
     "output_type": "stream",
     "text": [
      "79.5 μs ± 5.94 μs per loop (mean ± std. dev. of 7 runs, 10,000 loops each)\n"
     ]
    }
   ],
   "source": [
    "%%timeit\n",
    "data = torch.randn((32,125,125,3),device='cuda:0')\n",
    "min = torch.min(data.view(data.size(0),-1), dim=1)[0]\n",
    "max = torch.max(data.view(data.size(0),-1), dim=1)[0]\n",
    "data = (data - min.view(-1, 1, 1, 1)) / (max.view(-1, 1, 1, 1) - min.view(-1, 1, 1, 1)) "
   ]
  },
  {
   "cell_type": "code",
   "execution_count": 9,
   "metadata": {},
   "outputs": [],
   "source": [
    "from torchvision import transforms\n",
    "QUARK_GLUON_MEAN = [0.00036276, 0.00050321, 0.00560932]\n",
    "QUARK_GLUON_STD = [0.00023162, 0.00031747, 0.00257909]\n",
    "from einops import rearrange    "
   ]
  },
  {
   "cell_type": "code",
   "execution_count": 13,
   "metadata": {},
   "outputs": [],
   "source": [
    "transform = transforms.Compose([\n",
    "    transforms.RandomResizedCrop(125, scale=(0.2, 1.0), interpolation=3),\n",
    "    transforms.RandomHorizontalFlip(),  \n",
    "    transforms.Normalize(mean=QUARK_GLUON_MEAN, std=QUARK_GLUON_STD)\n",
    "    ])\n",
    "\n",
    "\n",
    "def _extra_transform(data):\n",
    "    min = torch.min(data.view(data.size(0),-1), dim=1)[0]\n",
    "    max = torch.max(data.view(data.size(0),-1), dim=1)[0]\n",
    "    data = (data - min.view(-1, 1, 1, 1)) / (max.view(-1, 1, 1, 1) - min.view(-1, 1, 1, 1)) \n",
    "    data = rearrange(data, 'b h w c-> b c h w')\n",
    "    data = transform(data)    "
   ]
  },
  {
   "cell_type": "code",
   "execution_count": 14,
   "metadata": {},
   "outputs": [
    {
     "name": "stdout",
     "output_type": "stream",
     "text": [
      "26.7 ms ± 1.81 ms per loop (mean ± std. dev. of 7 runs, 10 loops each)\n"
     ]
    }
   ],
   "source": [
    "%%timeit\n",
    "data = torch.randn((32,125,125,3))\n",
    "_extra_transform(data)"
   ]
  },
  {
   "cell_type": "code",
   "execution_count": 16,
   "metadata": {},
   "outputs": [
    {
     "name": "stdout",
     "output_type": "stream",
     "text": [
      "623 μs ± 10.3 μs per loop (mean ± std. dev. of 7 runs, 1,000 loops each)\n"
     ]
    }
   ],
   "source": [
    "%%timeit\n",
    "data = torch.randn((32,125,125,3),device='cuda:0')\n",
    "_extra_transform(data)"
   ]
  },
  {
   "cell_type": "code",
   "execution_count": 3,
   "metadata": {},
   "outputs": [
    {
     "ename": "AttributeError",
     "evalue": "'File' object has no attribute 'chunks'",
     "output_type": "error",
     "traceback": [
      "\u001b[0;31m---------------------------------------------------------------------------\u001b[0m",
      "\u001b[0;31mAttributeError\u001b[0m                            Traceback (most recent call last)",
      "Cell \u001b[0;32mIn[3], line 1\u001b[0m\n\u001b[0;32m----> 1\u001b[0m \u001b[43mdata\u001b[49m\u001b[38;5;241;43m.\u001b[39;49m\u001b[43mchunks\u001b[49m\n",
      "\u001b[0;31mAttributeError\u001b[0m: 'File' object has no attribute 'chunks'"
     ]
    }
   ],
   "source": [
    "data.chunks"
   ]
  },
  {
   "cell_type": "code",
   "execution_count": 17,
   "metadata": {},
   "outputs": [],
   "source": [
    "from bisect import bisect_left"
   ]
  },
  {
   "cell_type": "code",
   "execution_count": 18,
   "metadata": {},
   "outputs": [
    {
     "data": {
      "text/plain": [
       "4"
      ]
     },
     "execution_count": 18,
     "metadata": {},
     "output_type": "execute_result"
    }
   ],
   "source": [
    "L = [1,2,3,4,5,6,7,8,9,10]\n",
    "bisect_left(L, 5)"
   ]
  },
  {
   "cell_type": "code",
   "execution_count": null,
   "metadata": {},
   "outputs": [],
   "source": []
  },
  {
   "cell_type": "code",
   "execution_count": null,
   "metadata": {},
   "outputs": [],
   "source": []
  },
  {
   "cell_type": "code",
   "execution_count": 15,
   "metadata": {},
   "outputs": [
    {
     "data": {
      "text/plain": [
       "<KeysViewHDF5 ['test_jet', 'test_meta', 'train_jet', 'train_meta', 'validation_jet', 'validation_meta']>"
      ]
     },
     "execution_count": 15,
     "metadata": {},
     "output_type": "execute_result"
    }
   ],
   "source": [
    "data.keys()"
   ]
  },
  {
   "cell_type": "code",
   "execution_count": 16,
   "metadata": {},
   "outputs": [
    {
     "data": {
      "text/plain": [
       "3164800"
      ]
     },
     "execution_count": 16,
     "metadata": {},
     "output_type": "execute_result"
    }
   ],
   "source": [
    "# QG dataset count:793900\n",
    "# Boosted Top dataset count: 3164800\n",
    "data['train_meta'].shape[0]"
   ]
  },
  {
   "cell_type": "code",
   "execution_count": 8,
   "metadata": {},
   "outputs": [
    {
     "data": {
      "text/plain": [
       "array([101.89284 ,  16.671894,   0.      ], dtype=float32)"
      ]
     },
     "execution_count": 8,
     "metadata": {},
     "output_type": "execute_result"
    }
   ],
   "source": [
    "data['train_meta'][10]"
   ]
  },
  {
   "cell_type": "code",
   "execution_count": 4,
   "metadata": {},
   "outputs": [
    {
     "name": "stderr",
     "output_type": "stream",
     "text": [
      "  8%|▊         | 259134/3164800 [04:56<42:33, 1138.07it/s] /tmp/ipykernel_1991366/318559076.py:6: RuntimeWarning: invalid value encountered in divide\n",
      "  sample = (sample - np.min(sample))/(np.max(sample) - np.min(sample))\n",
      "100%|██████████| 3164800/3164800 [46:41<00:00, 1129.75it/s] \n",
      "100%|██████████| 393600/393600 [05:20<00:00, 1226.62it/s]\n",
      "100%|██████████| 400000/400000 [05:45<00:00, 1158.83it/s]\n"
     ]
    },
    {
     "data": {
      "text/plain": [
       "array([0.00030618, 0.00032988, 0.00022402, 0.00050185, 0.00590864,\n",
       "       0.00434622, 0.00457014, 0.00442105])"
      ]
     },
     "execution_count": 4,
     "metadata": {},
     "output_type": "execute_result"
    }
   ],
   "source": [
    "sum_vector = np.zeros((125,125,8),dtype=np.float64) \n",
    "count = 0\n",
    "for string in ['train','validation','test']:\n",
    "    for sample in tqdm(data[f'{string}_jet']):\n",
    "        sample = np.array(sample,dtype=np.float64)\n",
    "        sample = (sample - np.min(sample))/(np.max(sample) - np.min(sample))\n",
    "        if np.isnan(sample).any():\n",
    "            continue\n",
    "        sum_vector += sample\n",
    "        count += 1\n",
    "\n",
    "sum_vector = sum_vector.mean(axis=(0,1))/count\n",
    "sum_vector"
   ]
  },
  {
   "cell_type": "code",
   "execution_count": 6,
   "metadata": {},
   "outputs": [],
   "source": [
    "#Quark Gluon mean: [0.00036276, 0.00050321, 0.00560932]\n",
    "#Boosted Top mean: [0.00030618, 0.00032988, 0.00022402, 0.00050185, 0.00590864,\n",
    "    #    0.00434622, 0.00457014, 0.00442105]"
   ]
  },
  {
   "cell_type": "code",
   "execution_count": 5,
   "metadata": {},
   "outputs": [
    {
     "name": "stderr",
     "output_type": "stream",
     "text": [
      "  8%|▊         | 259074/3164800 [03:25<30:01, 1612.89it/s] /tmp/ipykernel_1991366/2836086558.py:9: RuntimeWarning: invalid value encountered in divide\n",
      "  sample = (sample - np.min(sample))/(np.max(sample) - np.min(sample))\n",
      "100%|██████████| 3164800/3164800 [33:21<00:00, 1581.58it/s] \n",
      "100%|██████████| 393600/393600 [04:18<00:00, 1522.75it/s]\n",
      "100%|██████████| 400000/400000 [04:04<00:00, 1637.66it/s]\n"
     ]
    },
    {
     "data": {
      "text/plain": [
       "array([1.57844912e-04, 1.27444286e-04, 9.95345503e-05, 3.33565491e-04,\n",
       "       3.09065050e-03, 1.89672124e-03, 2.02093365e-03, 2.01831124e-03])"
      ]
     },
     "execution_count": 5,
     "metadata": {},
     "output_type": "execute_result"
    }
   ],
   "source": [
    "#Quark Gluon std: [0.00023162, 0.00031747, 0.00257909]\n",
    "#Boosted Top std: [1.57844912e-04, 1.27444286e-04, 9.95345503e-05, 3.33565491e-04,\n",
    "    #    3.09065050e-03, 1.89672124e-03, 2.02093365e-03, 2.01831124e-03]\n",
    "std_vector = np.zeros(8,dtype=np.float64)\n",
    "count = 0\n",
    "mean = sum_vector\n",
    "for string in ['train','validation','test']:\n",
    "    for sample in tqdm(data[f'{string}_jet']):\n",
    "        sample = np.array(sample,dtype=np.float64)\n",
    "        sample = (sample - np.min(sample))/(np.max(sample) - np.min(sample))\n",
    "        sample = (sample.mean(axis=(0,1)) - mean)**2\n",
    "        if np.isnan(sample).any():\n",
    "            continue\n",
    "        std_vector += sample\n",
    "        count += 1\n",
    "\n",
    "std_vector = np.sqrt(std_vector/count)\n",
    "std_vector"
   ]
  },
  {
   "cell_type": "code",
   "execution_count": 9,
   "metadata": {},
   "outputs": [
    {
     "data": {
      "text/plain": [
       "(125, 125, 3)"
      ]
     },
     "execution_count": 9,
     "metadata": {},
     "output_type": "execute_result"
    }
   ],
   "source": [
    "std_vector.shape"
   ]
  }
 ],
 "metadata": {
  "kernelspec": {
   "display_name": "Python 3",
   "language": "python",
   "name": "python3"
  },
  "language_info": {
   "codemirror_mode": {
    "name": "ipython",
    "version": 3
   },
   "file_extension": ".py",
   "mimetype": "text/x-python",
   "name": "python",
   "nbconvert_exporter": "python",
   "pygments_lexer": "ipython3",
   "version": "3.10.14"
  }
 },
 "nbformat": 4,
 "nbformat_minor": 2
}
